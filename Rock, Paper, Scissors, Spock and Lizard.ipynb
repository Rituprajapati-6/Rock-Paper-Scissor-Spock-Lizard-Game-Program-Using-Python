{
 "cells": [
  {
   "cell_type": "markdown",
   "metadata": {},
   "source": [
    "# Essentials of Python Programming\n",
    "#### by AINE AI-VIP"
   ]
  },
  {
   "cell_type": "markdown",
   "metadata": {},
   "source": [
    "__Project Objective:__ _Developing ‘Rock, Paper, Scissors, Spock and Lizard’ game using Python programming_"
   ]
  },
  {
   "cell_type": "markdown",
   "metadata": {},
   "source": [
    "__About the project:__ _The project leverages the basic concepts of Python programming such as variables, data types, loop and conditional statements to develop the game of Rock, Papers and Scissors._"
   ]
  },
  {
   "cell_type": "markdown",
   "metadata": {},
   "source": [
    "   "
   ]
  },
  {
   "cell_type": "code",
   "execution_count": 1,
   "metadata": {},
   "outputs": [],
   "source": [
    "# Python Random module is an in-built module of Python which is used to generate random numbers\n",
    "import random\n",
    "from IPython.display import display\n",
    "# The Python Imaging Library(PIL) adds image processing capabilities.\n",
    "from PIL import Image"
   ]
  },
  {
   "cell_type": "code",
   "execution_count": 2,
   "metadata": {},
   "outputs": [],
   "source": [
    "choices = ['rock','paper','scissor','lizard','spock']\n",
    "#comp is the input for computer where it'll make any random selection from the choices list\n",
    "comp = random.choice(choices)"
   ]
  },
  {
   "cell_type": "code",
   "execution_count": 3,
   "metadata": {},
   "outputs": [],
   "source": [
    "winText = \"YOU WIN!!\" \n",
    "winTextComp = \"COMPUTER WINS!!\""
   ]
  },
  {
   "cell_type": "code",
   "execution_count": 4,
   "metadata": {},
   "outputs": [],
   "source": [
    "path = \"win.jpg\"\n",
    "path2 = \"thanks.png\"\n",
    "\n",
    "# It'll fetch the image from the path and open it\n",
    "d2 = Image.open(path2)\n",
    "d = Image.open(path)\n",
    "\n",
    "# To resize the image, you can use the following code, here it's for resizing the image to half\n",
    "# d = im.resize((int(im.size[0]/2),int(im.size[1]/2)), 0) \n",
    "# d2 = im2.resize((int(im.size[0]/2),int(im.size[1]/2)), 0) \n",
    "\n",
    "# This will display your image at 1/2 the size:\n",
    "# display(im.resize((int(im.size[0]/2),int(im.size[1]/2)), 0) )\n",
    "\n",
    "# This will display your image at 1/3 the size:\n",
    "# display(im.resize((int(im.size[0]/3),int(im.size[1]/3)), 0) )"
   ]
  },
  {
   "cell_type": "code",
   "execution_count": 8,
   "metadata": {},
   "outputs": [
    {
     "name": "stdout",
     "output_type": "stream",
     "text": [
      "\n",
      "To know the rules, type 'r'\n",
      "\n",
      "Input Your Choice: paper\n",
      "\n",
      "COMPUTER WINS!!\n",
      "\n",
      "You: Paper\n",
      "Computer: Lizard\n",
      "\n",
      "Want to play another round (Y/N): n\n",
      "\n",
      "Thanks For Playing :)\n"
     ]
    },
    {
     "data": {
      "image/png": "[encoded data removed]",
      "text/plain": [
       "<PIL.PngImagePlugin.PngImageFile image mode=P size=310x163 at 0x59B8640>"
      ]
     },
     "metadata": {},
     "output_type": "display_data"
    }
   ],
   "source": [
    "# To create the game loop and end it when false is encountered\n",
    "while True:\n",
    "    \n",
    "    print(\"\\nTo know the rules, type 'r'\")\n",
    "    # Take input from the player\n",
    "    player = input(\"\\nInput Your Choice: \")\n",
    "    \n",
    "    # lower() is used to prevent string case error handling\n",
    "    # If the player's choice is not in the choices list or is'nt \"r\"(for game rules), then it'll display invalid and ends the game\n",
    "    if player.lower() not in choices and player.lower() !=\"r\":\n",
    "        print('\\nInvalid Input. Try Again')\n",
    "        break\n",
    "        \n",
    "    # check whether the input is \"r\" to display the game rules\n",
    "    if player.lower() == \"r\":\n",
    "        print(\"You can choose from: \\n1.Rock\\n2.Paper\\n3.Scissor\\n4.Spock\\n5.Lizard\")\n",
    "        print(\"\\nRULES ARE:\\n\\nrock vs paper->paper wins\\n\\nrock vs scissors->rock wins\\n\\npaper vs scissors->scissors wins\\n\\nspock vs lizard->lizard wins\\n\\nspock vs paper->paper wins\\n\")\n",
    "        print(\"rock vs lizard->lizard wins\\n\\npaper vs lizard->lizard\\n\\nscissor vs lizard->scissor\\n\\nrock vs spock->spock\\n\\nscissor vs spock->spock\")\n",
    "        break\n",
    "    \n",
    "    # Comparison of all the possible combinations to determine the winner according to the game rules\n",
    "    \n",
    "    # if player's choice is same as computer's, it's a tie\n",
    "    elif comp == player.lower():\n",
    "        print('\\nIt\\'s a tie')\n",
    "        \n",
    "    # if computer's choice is paper and player's is either rock or spock, then computer wins. Else player wins.\n",
    "    elif comp == 'paper':\n",
    "        if player == 'rock' or player == 'spock':\n",
    "            print('\\n' + winTextComp)\n",
    "        else:\n",
    "            print('\\n'+ winText)\n",
    "            # To display the image\n",
    "            display(d)\n",
    "            \n",
    "    elif comp == 'rock':\n",
    "        if player == 'scissor' or player == 'lizard':\n",
    "            print('\\n' + winTextComp)\n",
    "        else:\n",
    "            print('\\n'+ winText)\n",
    "            display(d)\n",
    "            \n",
    "    elif comp == 'scissor':\n",
    "        if player == 'paper' or player == 'lizard':\n",
    "            print('\\n' + winTextComp)\n",
    "        else:\n",
    "            print('\\n'+ winText)\n",
    "            display(d)\n",
    "            \n",
    "    elif comp == 'spock':\n",
    "        if player == 'rock' or player == ' scissor':\n",
    "            print('\\n' + winTextComp)\n",
    "        else:\n",
    "            print('\\n'+ winText)\n",
    "            display(d)\n",
    "            \n",
    "    elif comp == 'lizard':\n",
    "        if player == 'paper' or player == 'spock':\n",
    "            print('\\n' + winTextComp)\n",
    "        else:\n",
    "            print('\\n'+ winText)\n",
    "            display(d)\n",
    "    \n",
    "    # Display the player's and computer's choice as result except for the case where player's inputs \"r\" to know the rule\n",
    "    if player.lower() != \"r\":\n",
    "        print('\\nYou: ' + player.capitalize() + '\\nComputer: '+ comp.capitalize())\n",
    "    \n",
    "    # For next game\n",
    "    new = input('\\nWant to play another round (Y/N): ')\n",
    "    \n",
    "    if new.lower() == 'y':\n",
    "        player = False\n",
    "    else:\n",
    "        print('\\nThanks For Playing :)')\n",
    "        display(d2)\n",
    "        break"
   ]
  },
  {
   "cell_type": "code",
   "execution_count": null,
   "metadata": {},
   "outputs": [],
   "source": []
  }
 ],
 "metadata": {
  "kernelspec": {
   "display_name": "Python 3",
   "language": "python",
   "name": "python3"
  },
  "language_info": {
   "codemirror_mode": {
    "name": "ipython",
    "version": 3
   },
   "file_extension": ".py",
   "mimetype": "text/x-python",
   "name": "python",
   "nbconvert_exporter": "python",
   "pygments_lexer": "ipython3",
   "version": "3.8.3"
  }
 },
 "nbformat": 4,
 "nbformat_minor": 4
}
